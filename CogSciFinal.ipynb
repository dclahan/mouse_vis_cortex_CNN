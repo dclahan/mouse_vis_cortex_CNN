{
  "cells": [
    {
      "cell_type": "markdown",
      "metadata": {
        "id": "aNFmpJjRDU_2"
      },
      "source": [
        "# Cognitive Science Final Project\n",
        "**Performance analysis for image classification Convolutional Neural Network based on neural structure of Mice Visual Cortex** "
      ]
    },
    {
      "cell_type": "markdown",
      "metadata": {
        "id": "YUqIZfhZyAsM"
      },
      "source": [
        "This project I will be connecting the topics discussed in class about the continued study of Artificial Neural Networks with real-world data derived from the specific, cell-to-cell mapping of axonal tracts between neurons within a mouses visual cortex to model a convolutional neural network after. I will compare the performance of this real-world image processing network against the baseline to assess the importance of modeling artificial neural networks after biological neural structures."
      ]
    },
    {
      "cell_type": "markdown",
      "metadata": {
        "id": "Pg6WVlan9ykq"
      },
      "source": [
        "Initial imports"
      ]
    },
    {
      "cell_type": "code",
      "execution_count": 1,
      "metadata": {
        "id": "_CQBURkuXs1d"
      },
      "outputs": [],
      "source": [
        "import torch\n",
        "import torch.nn as nn\n",
        "import torchvision.transforms as transforms\n",
        "import torchvision.datasets as dsets\n",
        "import matplotlib.pylab as plt\n",
        "from torch.utils.data import Dataset, DataLoader\n",
        "from torch.distributions import normal\n",
        "import networkx as nx\n",
        "import time"
      ]
    },
    {
      "cell_type": "markdown",
      "metadata": {
        "id": "bS7d3wj7WL9G"
      },
      "source": [
        "Download Mouse visual cortex networks from <https://neurodata.io/project/connectomes/>\n",
        "\n",
        "***ONLY RUN THIS CELL ONCE***"
      ]
    },
    {
      "cell_type": "code",
      "execution_count": 2,
      "metadata": {
        "colab": {
          "base_uri": "https://localhost:8080/"
        },
        "id": "3_2tUkBWWJ9D",
        "outputId": "ee9f88ed-6fe2-4439-9ade-228718a99f3a"
      },
      "outputs": [
        {
          "output_type": "stream",
          "name": "stdout",
          "text": [
            "--2022-04-24 14:24:03--  https://s3.amazonaws.com/connectome-graphs/mouse/mouse_visual.cortex_1.graphml\n",
            "Resolving s3.amazonaws.com (s3.amazonaws.com)... 52.217.199.128\n",
            "Connecting to s3.amazonaws.com (s3.amazonaws.com)|52.217.199.128|:443... connected.\n",
            "HTTP request sent, awaiting response... 200 OK\n",
            "Length: 9054 (8.8K) [binary/octet-stream]\n",
            "Saving to: ‘mouse_visual.cortex_1.graphml’\n",
            "\n",
            "mouse_visual.cortex 100%[===================>]   8.84K  --.-KB/s    in 0s      \n",
            "\n",
            "2022-04-24 14:24:04 (114 MB/s) - ‘mouse_visual.cortex_1.graphml’ saved [9054/9054]\n",
            "\n",
            "--2022-04-24 14:24:04--  https://s3.amazonaws.com/connectome-graphs/mouse/mouse_visual.cortex_2.graphml\n",
            "Resolving s3.amazonaws.com (s3.amazonaws.com)... 52.217.199.128\n",
            "Connecting to s3.amazonaws.com (s3.amazonaws.com)|52.217.199.128|:443... connected.\n",
            "HTTP request sent, awaiting response... 200 OK\n",
            "Length: 48429 (47K) [binary/octet-stream]\n",
            "Saving to: ‘mouse_visual.cortex_2.graphml’\n",
            "\n",
            "mouse_visual.cortex 100%[===================>]  47.29K  --.-KB/s    in 0.02s   \n",
            "\n",
            "2022-04-24 14:24:04 (2.39 MB/s) - ‘mouse_visual.cortex_2.graphml’ saved [48429/48429]\n",
            "\n"
          ]
        }
      ],
      "source": [
        "!wget https://s3.amazonaws.com/connectome-graphs/mouse/mouse_visual.cortex_1.graphml\n",
        "!wget https://s3.amazonaws.com/connectome-graphs/mouse/mouse_visual.cortex_2.graphml"
      ]
    },
    {
      "cell_type": "markdown",
      "metadata": {
        "id": "oL7hBuahCjRh"
      },
      "source": [
        "Function for visualization of visual cortex network of nuerons"
      ]
    },
    {
      "cell_type": "code",
      "execution_count": 3,
      "metadata": {
        "id": "JaVLgFMVYSXe"
      },
      "outputs": [],
      "source": [
        "# network analysis\n",
        "node_colors = {'NA': 'red', 'Postsynaptic inhibitory target':'blue','Postsynaptic excitatory target':'green'}\n",
        "def assess_neuron_network(G):\n",
        "\ttypetwo = nx.get_node_attributes(G, 'type2')\n",
        "\tnode_types_list = dict([(typ,[]) for typ in list(set(typetwo.values()))])\n",
        "\n",
        "\tsources = [n for n in G.nodes() if G.in_degree(n) == 0]\n",
        "\tsinks = [n for n in G.nodes() if G.out_degree(n) == 0]\n",
        "\tfor n in G.nodes():\n",
        "\t\tnode_types_list[typetwo[n]].append(n)\n",
        "\n",
        "\tprint(\"Mouse Visual Cortex Neuron-Network\")\n",
        "\tprint(\"# neurons in first layer  (Presynaptic sources) :\", len(sources))\n",
        "\tprint(\"# neurons in second layer (Postsynaptic targets):\", len(sinks))\n",
        "\treturn node_types_list"
      ]
    },
    {
      "cell_type": "markdown",
      "metadata": {
        "id": "iBrsUC02Czmh"
      },
      "source": [
        "Download the MNIST digits data"
      ]
    },
    {
      "cell_type": "code",
      "execution_count": 4,
      "metadata": {
        "id": "c_Jx-CTBXs1u"
      },
      "outputs": [],
      "source": [
        "IMAGE_SIZE = 16\n",
        "composed = transforms.Compose([transforms.Resize((IMAGE_SIZE, IMAGE_SIZE)), transforms.ToTensor()])"
      ]
    },
    {
      "cell_type": "code",
      "execution_count": 5,
      "metadata": {
        "id": "B-vQcdXxXs1u",
        "colab": {
          "base_uri": "https://localhost:8080/",
          "height": 436,
          "referenced_widgets": [
            "d1ef4d94a99c46ca88d698534ddccbd3",
            "2fc322e8cc0c43df96f0863f91ce1c93",
            "39ff30175e5d48d880c67ac962539bed",
            "759832bfb4194c22af29fc0b2d7d2f49",
            "9f672be648e840918ee2f2de315c8210",
            "a8b932f50e0d4843a11ae5fa4dc22772",
            "dc567e5562954028a186c4dfe1094b58",
            "0c7140ac090346e3abd679cf46edeb2e",
            "c28c118021314bab980a2e34c89aee84",
            "f7534f1070a24d65b7b589b04b675449",
            "89283cee8ece402f9fa3b39a8903b85b",
            "4471a057a09943cf8dafaa1217e97da0",
            "c8fdcc7dfef5489c8138e97549dae67d",
            "8516b8b72bf64493b377847874f8c1dd",
            "a7c58b89b14149f2b6dcaceaa5bf5029",
            "32ceebe563c5403b854a79c08ce2e255",
            "306a9c6875804c5cbf109ef1bebd49c6",
            "f5ad74d2d3c2442a832742205fc459db",
            "d57fa74e37c34d98a8704fb9d4dcd6f0",
            "c551a1c4d7074d2f9621c8a1bb7666b8",
            "834ac91924da424eabc3f07f2f8baa72",
            "a52cbed88e7b4d43b28184301f5aa967",
            "676632515bcf4a638678ebd7bbd58471",
            "a02240fbfd654cc487eba95a2e972e00",
            "53a54e181a01415d895167db8f0b454a",
            "5f4724efc0a64940bb0e6baf4730df04",
            "e17016ca6a7f461387e964add1a04291",
            "97fa06b09dfe4df9b219f6aa346ffa73",
            "35b7c19a0f6949b69fe8bcee490dc2f5",
            "16eca085c9934cb89bc460db6a0f2066",
            "027ca8e13fb54f8aa42456ec144d9ff9",
            "6efe00e4d8964658ad6228c0102b4d17",
            "17fa8782c514401c819a65ec507579c4",
            "e949b868a235491a94ad394ddb1d354d",
            "ca93b5fe4f304017bfb290adc5525aff",
            "0bd909ce02c4439f8a9e9c692475d4bf",
            "85d36cde2f274f90b2255a5386ac073d",
            "b58feef4b1794c4690aded2820dcdfa2",
            "b7264097962c4fffa7dcbc29ed03b621",
            "beb3e3f6aab04a4a93c3b40997b64d55",
            "87201fc605b045c288676ea6cbba4fc6",
            "a0777f34cd154a38aca4e9fa79241c8c",
            "d072e7425e8e44dcb9dd54ffe720503c",
            "5c4d9d0d94c84269a25d8fc609bbaa64"
          ]
        },
        "outputId": "4c334ce0-7dca-466c-eee2-b8c842b78576"
      },
      "outputs": [
        {
          "output_type": "stream",
          "name": "stdout",
          "text": [
            "Downloading http://yann.lecun.com/exdb/mnist/train-images-idx3-ubyte.gz\n",
            "Downloading http://yann.lecun.com/exdb/mnist/train-images-idx3-ubyte.gz to ./data/MNIST/raw/train-images-idx3-ubyte.gz\n"
          ]
        },
        {
          "output_type": "display_data",
          "data": {
            "text/plain": [
              "  0%|          | 0/9912422 [00:00<?, ?it/s]"
            ],
            "application/vnd.jupyter.widget-view+json": {
              "version_major": 2,
              "version_minor": 0,
              "model_id": "d1ef4d94a99c46ca88d698534ddccbd3"
            }
          },
          "metadata": {}
        },
        {
          "output_type": "stream",
          "name": "stdout",
          "text": [
            "Extracting ./data/MNIST/raw/train-images-idx3-ubyte.gz to ./data/MNIST/raw\n",
            "\n",
            "Downloading http://yann.lecun.com/exdb/mnist/train-labels-idx1-ubyte.gz\n",
            "Downloading http://yann.lecun.com/exdb/mnist/train-labels-idx1-ubyte.gz to ./data/MNIST/raw/train-labels-idx1-ubyte.gz\n"
          ]
        },
        {
          "output_type": "display_data",
          "data": {
            "text/plain": [
              "  0%|          | 0/28881 [00:00<?, ?it/s]"
            ],
            "application/vnd.jupyter.widget-view+json": {
              "version_major": 2,
              "version_minor": 0,
              "model_id": "4471a057a09943cf8dafaa1217e97da0"
            }
          },
          "metadata": {}
        },
        {
          "output_type": "stream",
          "name": "stdout",
          "text": [
            "Extracting ./data/MNIST/raw/train-labels-idx1-ubyte.gz to ./data/MNIST/raw\n",
            "\n",
            "Downloading http://yann.lecun.com/exdb/mnist/t10k-images-idx3-ubyte.gz\n",
            "Downloading http://yann.lecun.com/exdb/mnist/t10k-images-idx3-ubyte.gz to ./data/MNIST/raw/t10k-images-idx3-ubyte.gz\n"
          ]
        },
        {
          "output_type": "display_data",
          "data": {
            "text/plain": [
              "  0%|          | 0/1648877 [00:00<?, ?it/s]"
            ],
            "application/vnd.jupyter.widget-view+json": {
              "version_major": 2,
              "version_minor": 0,
              "model_id": "676632515bcf4a638678ebd7bbd58471"
            }
          },
          "metadata": {}
        },
        {
          "output_type": "stream",
          "name": "stdout",
          "text": [
            "Extracting ./data/MNIST/raw/t10k-images-idx3-ubyte.gz to ./data/MNIST/raw\n",
            "\n",
            "Downloading http://yann.lecun.com/exdb/mnist/t10k-labels-idx1-ubyte.gz\n",
            "Downloading http://yann.lecun.com/exdb/mnist/t10k-labels-idx1-ubyte.gz to ./data/MNIST/raw/t10k-labels-idx1-ubyte.gz\n"
          ]
        },
        {
          "output_type": "display_data",
          "data": {
            "text/plain": [
              "  0%|          | 0/4542 [00:00<?, ?it/s]"
            ],
            "application/vnd.jupyter.widget-view+json": {
              "version_major": 2,
              "version_minor": 0,
              "model_id": "e949b868a235491a94ad394ddb1d354d"
            }
          },
          "metadata": {}
        },
        {
          "output_type": "stream",
          "name": "stdout",
          "text": [
            "Extracting ./data/MNIST/raw/t10k-labels-idx1-ubyte.gz to ./data/MNIST/raw\n",
            "\n"
          ]
        }
      ],
      "source": [
        "train_dataset = dsets.MNIST(root='./data', train=True, download=True, transform=composed)"
      ]
    },
    {
      "cell_type": "code",
      "execution_count": 6,
      "metadata": {
        "id": "joMjKrYoXs1u"
      },
      "outputs": [],
      "source": [
        "validation_dataset = dsets.MNIST(root='./data', train=False, download=True, transform=composed)"
      ]
    },
    {
      "cell_type": "markdown",
      "metadata": {
        "id": "nyY-sS0i-kqa"
      },
      "source": [
        "## Initiate different models for the different neural structures. \n",
        "Now that we've initialized all the functions and classes needed to perform image classification, lets \n",
        "\n",
        "\n",
        "1.   Create a standard baseline SoftMax and Convolutional Neural Network models and train on the data \n",
        "2.   Analyze the structure of our 2 mouse visual cortex neuron networks\n",
        "3.   Create Convolutional Neural Networks based on the structure of the Mouse visual cortex network's\n",
        "4.   Compare performances (accuracy & loss) across all models  \n",
        "\n"
      ]
    },
    {
      "cell_type": "markdown",
      "metadata": {
        "id": "StXoQMn07d5_"
      },
      "source": [
        "##Defining a Convolutional Neural Network"
      ]
    },
    {
      "cell_type": "markdown",
      "metadata": {
        "id": "YkhDQxsfCufQ"
      },
      "source": [
        "Heres the meat: the neural network (variable for our different structures)"
      ]
    },
    {
      "cell_type": "code",
      "execution_count": 7,
      "metadata": {
        "id": "4w_Z7q16Xs1v"
      },
      "outputs": [],
      "source": [
        "class CNN(nn.Module):\n",
        "    \n",
        "    def __init__(self, out_1=16, out_2=32):\n",
        "        \"\"\"Contructor\"\"\"\n",
        "        super(CNN, self).__init__()\n",
        "        self.cnn1 = nn.Conv2d(in_channels=1, out_channels=out_1, kernel_size=5, padding=2)\n",
        "        self.maxpool1=nn.MaxPool2d(kernel_size=2)\n",
        "\n",
        "        self.cnn2 = nn.Conv2d(in_channels=out_1, out_channels=out_2, kernel_size=5, stride=1, padding=2)\n",
        "        self.maxpool2=nn.MaxPool2d(kernel_size=2)\n",
        "        self.fc1 = nn.Linear(out_2 * 4 * 4, 10)\n",
        "    \n",
        "    def forward(self, x):\n",
        "        \"\"\"Prediction\"\"\"\n",
        "        x = self.cnn1(x)\n",
        "        x = torch.relu(x)\n",
        "        x = self.maxpool1(x)\n",
        "        x = self.cnn2(x)\n",
        "        x = torch.relu(x)\n",
        "        x = self.maxpool2(x)\n",
        "        x = x.view(x.size(0), -1)\n",
        "        x = self.fc1(x)\n",
        "        return x\n",
        "    \n",
        "    def activations(self, x):\n",
        "        \"\"\"outputs activation\"\"\"\n",
        "        z1 = self.cnn1(x)\n",
        "        a1 = torch.relu(z1)\n",
        "        out = self.maxpool1(a1)\n",
        "        \n",
        "        z2 = self.cnn2(out)\n",
        "        a2 = torch.relu(z2)\n",
        "        out1 = self.maxpool2(a2)\n",
        "        out = out.view(out.size(0),-1)\n",
        "        return z1, a1, z2, a2, out1,out"
      ]
    },
    {
      "cell_type": "code",
      "execution_count": 8,
      "metadata": {
        "id": "xvqWnsSfXs1x"
      },
      "outputs": [],
      "source": [
        "# Training the model\n",
        "n_epochs = 10\n",
        "N_test = len(validation_dataset)\n",
        "COST = 0\n",
        "\n",
        "def train_model(model, n_epochs):\n",
        "    start = time.time()\n",
        "    cost_list, accuracy_list, learning_rate = [], [], 0.1\n",
        "    criterion = nn.CrossEntropyLoss()\n",
        "    optimizer = torch.optim.SGD(model.parameters(), lr = learning_rate)\n",
        "    train_loader = torch.utils.data.DataLoader(dataset=train_dataset, batch_size=100)\n",
        "    validation_loader = torch.utils.data.DataLoader(dataset=validation_dataset, batch_size=5000)\n",
        "    \n",
        "    for epoch in range(n_epochs):\n",
        "        COST, ep_time = 0, time.time()\n",
        "        for x, y in train_loader:\n",
        "            optimizer.zero_grad()\n",
        "            z = model(x)\n",
        "            loss = criterion(z, y)\n",
        "            loss.backward()\n",
        "            optimizer.step()\n",
        "            COST+=loss.data\n",
        "        \n",
        "        cost_list.append(COST)\n",
        "        correct=0\n",
        "        #perform a prediction on the validation data  \n",
        "        for x_test, y_test in validation_loader:\n",
        "            z = model(x_test)\n",
        "            _, yhat = torch.max(z.data, 1)\n",
        "            correct += (yhat == y_test).sum().item()\n",
        "        accuracy = correct / N_test\n",
        "        accuracy_list.append(accuracy)\n",
        "        print('epoch %d, loss %.4f, train acc %.3f, '\n",
        "              'time %.1f sec'\n",
        "              % (epoch + 1, COST, accuracy,\n",
        "                 time.time() - ep_time))\n",
        "\n",
        "    print('%.2f sec to train the CNN' % (time.time() - start))\n",
        "    return model, cost_list, accuracy_list"
      ]
    },
    {
      "cell_type": "markdown",
      "metadata": {
        "id": "zy8OtOgf-yQo"
      },
      "source": [
        "##Baseline CNN Model\n",
        "This is a basic structure for a Convolutional Neural Network to train on the images, if you were taking an intro to machine learing course, this structure would be given as a first-"
      ]
    },
    {
      "cell_type": "code",
      "execution_count": 9,
      "metadata": {
        "id": "NtpEwDRoXs1w"
      },
      "outputs": [],
      "source": [
        "# Create the baseline model\n",
        "model_baseline = CNN(out_1=16, out_2=32)"
      ]
    },
    {
      "cell_type": "markdown",
      "metadata": {
        "id": "cmHW8r6PDzxP"
      },
      "source": [
        "We train the model for 10 epochs, **this cell may take a while to run** (3-5 minutes depending on connection)"
      ]
    },
    {
      "cell_type": "code",
      "execution_count": 10,
      "metadata": {
        "colab": {
          "base_uri": "https://localhost:8080/"
        },
        "id": "ckVxPkXcCs2s",
        "outputId": "ae5f12f1-bc7c-4974-e5af-50b3dc369d12"
      },
      "outputs": [
        {
          "output_type": "stream",
          "name": "stdout",
          "text": [
            "epoch 1, loss 275.6123, train acc 0.954, time 25.1 sec\n",
            "epoch 2, loss 72.0106, train acc 0.972, time 21.5 sec\n",
            "epoch 3, loss 53.5929, train acc 0.978, time 21.6 sec\n",
            "epoch 4, loss 44.4194, train acc 0.980, time 22.2 sec\n",
            "epoch 5, loss 38.4506, train acc 0.981, time 21.2 sec\n",
            "epoch 6, loss 34.1116, train acc 0.982, time 21.6 sec\n",
            "epoch 7, loss 30.7035, train acc 0.985, time 21.5 sec\n",
            "epoch 8, loss 28.0849, train acc 0.985, time 21.2 sec\n",
            "epoch 9, loss 25.9207, train acc 0.985, time 21.4 sec\n",
            "epoch 10, loss 24.0578, train acc 0.986, time 21.7 sec\n",
            "218.95 sec to train the CNN\n"
          ]
        }
      ],
      "source": [
        "model_baseline, cost_list_bl, accuracy_list_bl = train_model(model_baseline, n_epochs)"
      ]
    },
    {
      "cell_type": "markdown",
      "metadata": {
        "id": "A4TLyQTXiqge"
      },
      "source": [
        "Now that we have trained this model, we observe the accuracy and loss that we will compare our mouse visual cortex based neural networks to."
      ]
    },
    {
      "cell_type": "code",
      "execution_count": 11,
      "metadata": {
        "id": "ieyKMmapXs1x",
        "colab": {
          "base_uri": "https://localhost:8080/",
          "height": 297
        },
        "outputId": "05ae6312-8156-4d8b-8fa4-2fc873487633"
      },
      "outputs": [
        {
          "output_type": "display_data",
          "data": {
            "text/plain": [
              "<Figure size 432x288 with 2 Axes>"
            ],
            "image/png": "[encoded data removed]"
          },
          "metadata": {
            "needs_background": "light"
          }
        }
      ],
      "source": [
        "# Plot the loss and accuracy for baseline CNN\n",
        "fig, ax1 = plt.subplots()\n",
        "color = 'tab:red'\n",
        "ax1.plot(cost_list_bl, color=color)\n",
        "ax1.set_xlabel('epoch', color=color)\n",
        "ax1.set_ylabel('Cost', color=color)\n",
        "ax1.tick_params(axis='y', color=color)\n",
        "    \n",
        "ax2 = ax1.twinx()  \n",
        "color = 'tab:blue'\n",
        "ax2.set_ylabel('accuracy', color=color) \n",
        "ax2.set_xlabel('epoch', color=color)\n",
        "ax2.plot(accuracy_list_bl, color=color)\n",
        "ax2.tick_params(axis='y', color=color)\n",
        "fig.tight_layout()"
      ]
    },
    {
      "cell_type": "markdown",
      "metadata": {
        "id": "geJlTBuXIsEp"
      },
      "source": [
        "## Mouse visual cortex 1"
      ]
    },
    {
      "cell_type": "markdown",
      "metadata": {
        "id": "WjIkgQm7EjFZ"
      },
      "source": [
        "**Data used:**\n",
        "The data used in this project was sourced from <https://neurodata.io/project/connectomes/>.\n",
        "\n",
        "The page \"hosts animal connectomes produced using data from a multitude of labs, across model species, using different modalities. A 'connectome' is a specific, cell-to-cell mapping of axonal tracts between neurons, created from cellular data like electron microscopy.\" We download and use the Mouse connectome for this project.\n",
        "\n",
        "Network Analysis for "
      ]
    },
    {
      "cell_type": "code",
      "execution_count": 12,
      "metadata": {
        "id": "vFUuhRjuF8x8"
      },
      "outputs": [],
      "source": [
        "G_small = nx.read_graphml('mouse_visual.cortex_1.graphml')"
      ]
    },
    {
      "cell_type": "code",
      "execution_count": 13,
      "metadata": {
        "id": "gynSidcXi2dR",
        "colab": {
          "base_uri": "https://localhost:8080/"
        },
        "outputId": "849e56a3-78c0-405e-f8b4-50964c5e68e7"
      },
      "outputs": [
        {
          "output_type": "stream",
          "name": "stdout",
          "text": [
            "Mouse Visual Cortex Neuron-Network\n",
            "# neurons in first layer  (Presynaptic sources) : 9\n",
            "# neurons in second layer (Postsynaptic targets): 18\n"
          ]
        }
      ],
      "source": [
        "node_types_list = assess_neuron_network(G_small)"
      ]
    },
    {
      "cell_type": "markdown",
      "metadata": {
        "id": "qfeTFHsJjwLn"
      },
      "source": [
        "Draw the graph to see how information flows from presynaptic to postsynaptic neurons via directed edges"
      ]
    },
    {
      "cell_type": "code",
      "execution_count": 14,
      "metadata": {
        "id": "0b9HP2Vsi6nM",
        "colab": {
          "base_uri": "https://localhost:8080/",
          "height": 248
        },
        "outputId": "66bd05e2-f01a-4519-d65b-47c31af40c4e"
      },
      "outputs": [
        {
          "output_type": "display_data",
          "data": {
            "text/plain": [
              "<Figure size 432x288 with 1 Axes>"
            ],
            "image/png": "[encoded data removed]"
          },
          "metadata": {}
        }
      ],
      "source": [
        "pos = nx.shell_layout(G_small)\n",
        "for typ,nodes in node_types_list.items(): \n",
        "\tlabel = typ if typ != 'NA' else 'Presynaptic source'\n",
        "\tnx.draw_networkx_nodes(G_small, pos = pos, nodelist = nodes, node_color = node_colors[typ], label = label)\n",
        "nx.draw_networkx_edges(G_small, pos=pos)\n",
        "plt.legend(bbox_to_anchor=(1,0), loc=\"lower left\")\n",
        "plt.show()"
      ]
    },
    {
      "cell_type": "markdown",
      "metadata": {
        "id": "cnRNIC-8GtTz"
      },
      "source": [
        "Now that we know the structure of the mouse visual cortex, lets restructure the Neural Network to mirror the mouse's visual cortex  "
      ]
    },
    {
      "cell_type": "code",
      "execution_count": 15,
      "metadata": {
        "id": "67rfoOFA_nEI"
      },
      "outputs": [],
      "source": [
        "# Create the CNN with structure based on the Mouse Visual Cortex\n",
        "model1 = CNN(out_1=9, out_2=18)"
      ]
    },
    {
      "cell_type": "markdown",
      "metadata": {
        "id": "s_xa65eRXs1w"
      },
      "source": [
        "Train the model and determine validation/test accuracy. **(This may take a long time)**"
      ]
    },
    {
      "cell_type": "code",
      "execution_count": 16,
      "metadata": {
        "id": "yUFL37EFAwgO",
        "colab": {
          "base_uri": "https://localhost:8080/"
        },
        "outputId": "8f3c062b-e0f8-490d-85a6-4d62dd8aa394"
      },
      "outputs": [
        {
          "output_type": "stream",
          "name": "stdout",
          "text": [
            "epoch 1, loss 335.8729, train acc 0.941, time 18.9 sec\n",
            "epoch 2, loss 78.6690, train acc 0.963, time 18.4 sec\n",
            "epoch 3, loss 58.5077, train acc 0.968, time 18.7 sec\n",
            "epoch 4, loss 49.3996, train acc 0.971, time 18.5 sec\n",
            "epoch 5, loss 43.6717, train acc 0.973, time 18.5 sec\n",
            "epoch 6, loss 39.4670, train acc 0.976, time 18.6 sec\n",
            "epoch 7, loss 36.1579, train acc 0.978, time 18.7 sec\n",
            "epoch 8, loss 33.4332, train acc 0.980, time 18.8 sec\n",
            "epoch 9, loss 31.1639, train acc 0.980, time 18.4 sec\n",
            "epoch 10, loss 29.1753, train acc 0.981, time 18.5 sec\n",
            "185.94 sec to train the CNN\n"
          ]
        }
      ],
      "source": [
        "model1, cost_list_1, accuracy_list_1 = train_model(model1, n_epochs)"
      ]
    },
    {
      "cell_type": "markdown",
      "metadata": {
        "id": "VkN0A9zl_nNQ"
      },
      "source": [
        "## Mouse visual cortex 2"
      ]
    },
    {
      "cell_type": "markdown",
      "metadata": {
        "id": "hfvCtJmOD47x"
      },
      "source": [
        "Now we do similar analysis and Neural Network creation and training based on the second, larger network of a mouse visual cortex. "
      ]
    },
    {
      "cell_type": "code",
      "execution_count": 17,
      "metadata": {
        "id": "vuoZrQJ2jEFe"
      },
      "outputs": [],
      "source": [
        "G_big = nx.read_graphml('mouse_visual.cortex_2.graphml')"
      ]
    },
    {
      "cell_type": "code",
      "execution_count": 18,
      "metadata": {
        "id": "5IW2cP4jjD4U",
        "colab": {
          "base_uri": "https://localhost:8080/"
        },
        "outputId": "d18bbd94-4b65-45b7-aa1f-ef53776adbe9"
      },
      "outputs": [
        {
          "output_type": "stream",
          "name": "stdout",
          "text": [
            "Mouse Visual Cortex Neuron-Network\n",
            "# neurons in first layer  (Presynaptic sources) : 10\n",
            "# neurons in second layer (Postsynaptic targets): 184\n"
          ]
        }
      ],
      "source": [
        "node_types_list = assess_neuron_network(G_big)"
      ]
    },
    {
      "cell_type": "code",
      "execution_count": 19,
      "metadata": {
        "id": "6Owk5S9mjN-f",
        "colab": {
          "base_uri": "https://localhost:8080/",
          "height": 248
        },
        "outputId": "4becf8e3-eace-4d2e-9441-c7a6aef77204"
      },
      "outputs": [
        {
          "output_type": "display_data",
          "data": {
            "text/plain": [
              "<Figure size 432x288 with 1 Axes>"
            ],
            "image/png": "[encoded data removed]"
          },
          "metadata": {}
        }
      ],
      "source": [
        "pos = nx.spring_layout(G_big)\n",
        "for typ,nodes in node_types_list.items(): \n",
        "\tlabel = typ if typ != 'NA' else 'Presynaptic source'\n",
        "\tnx.draw_networkx_nodes(G_big, pos = pos, node_size = 25, nodelist = nodes, node_color = node_colors[typ], label = label)\n",
        "nx.draw_networkx_edges(G_big, pos=pos)\n",
        "plt.legend(bbox_to_anchor=(1,0), loc=\"lower left\")\n",
        "plt.show()"
      ]
    },
    {
      "cell_type": "markdown",
      "metadata": {
        "id": "9XakNGOKjEq7"
      },
      "source": [
        "Now that we know the structure of this network, lets recreate it using our convolutional neural network."
      ]
    },
    {
      "cell_type": "code",
      "execution_count": 20,
      "metadata": {
        "id": "8UJ5S2IN_nNQ"
      },
      "outputs": [],
      "source": [
        "# Create the CNN based on information flow of visual cortex \n",
        "model2 = CNN(out_1=10, out_2=182)"
      ]
    },
    {
      "cell_type": "markdown",
      "metadata": {
        "id": "rABmPSmuDuNJ"
      },
      "source": [
        "**This one takes the longest amount of time** (~10 mins)"
      ]
    },
    {
      "cell_type": "code",
      "execution_count": 21,
      "metadata": {
        "colab": {
          "base_uri": "https://localhost:8080/"
        },
        "id": "LIzGnwhQ_pFl",
        "outputId": "f13882fb-e35e-446a-9d26-6e540583679d"
      },
      "outputs": [
        {
          "output_type": "stream",
          "name": "stdout",
          "text": [
            "epoch 1, loss 248.9709, train acc 0.960, time 53.4 sec\n",
            "epoch 2, loss 63.2133, train acc 0.974, time 53.7 sec\n",
            "epoch 3, loss 46.6760, train acc 0.978, time 52.8 sec\n",
            "epoch 4, loss 38.1548, train acc 0.979, time 52.4 sec\n",
            "epoch 5, loss 32.7043, train acc 0.981, time 52.3 sec\n",
            "epoch 6, loss 28.7618, train acc 0.983, time 52.5 sec\n",
            "epoch 7, loss 25.6832, train acc 0.984, time 52.2 sec\n",
            "epoch 8, loss 23.1913, train acc 0.986, time 52.4 sec\n",
            "epoch 9, loss 21.0693, train acc 0.986, time 53.4 sec\n",
            "epoch 10, loss 19.1871, train acc 0.986, time 52.6 sec\n",
            "527.62 sec to train the CNN\n"
          ]
        }
      ],
      "source": [
        "model2, cost_list_2, accuracy_list_2 = train_model(model2, n_epochs)"
      ]
    },
    {
      "cell_type": "markdown",
      "metadata": {
        "id": "2ULuTlUA_8Gl"
      },
      "source": [
        "## Analyze results\n",
        "**Compare Models**"
      ]
    },
    {
      "cell_type": "code",
      "execution_count": 22,
      "metadata": {
        "colab": {
          "base_uri": "https://localhost:8080/",
          "height": 732
        },
        "id": "HSm5TyGpDRX7",
        "outputId": "cbad0e71-6b29-491e-98cc-00fb15c61a2e"
      },
      "outputs": [
        {
          "output_type": "execute_result",
          "data": {
            "text/plain": [
              "<matplotlib.legend.Legend at 0x7f3e5dbc93d0>"
            ]
          },
          "metadata": {},
          "execution_count": 22
        },
        {
          "output_type": "display_data",
          "data": {
            "text/plain": [
              "<Figure size 720x864 with 2 Axes>"
            ],
            "image/png": "[encoded data removed]"
          },
          "metadata": {
            "needs_background": "light"
          }
        }
      ],
      "source": [
        "# Plot accuracy and loss for each NN\n",
        "fig, ax = plt.subplots(2, 1, figsize=(10,12))\n",
        "ax[0].plot(accuracy_list_bl, color='red', label = \"Baseline\")\n",
        "ax[0].plot(accuracy_list_1, color='blue', label = \"Small network\")\n",
        "ax[0].plot(accuracy_list_2, color='green', label = \"Large network\")\n",
        "ax[0].set_ylabel('Accuracy')\n",
        "    \n",
        "ax[1].set_ylabel('Cost') \n",
        "ax[1].set_xlabel('epoch')\n",
        "ax[1].plot(cost_list_bl, color='red', label = \"Baseline\")\n",
        "ax[1].plot(cost_list_1, color='blue', label = \"Small network\")\n",
        "ax[1].plot(cost_list_2, color='green', label = \"Large network\")\n",
        "plt.legend()"
      ]
    },
    {
      "cell_type": "markdown",
      "metadata": {
        "id": "JzlmvpGrugTa"
      },
      "source": [
        "We observe that while the smaller Visual Cortex network relatively underperforms, having a lower accuracy and higher error compared to the baseline model, the larger model of the Mouse Visual Cortex does the same or better than the baseline model, having a higher overall accuracy and lower validation error while training compared to the other models.  \n",
        "\n",
        "\n",
        "\n"
      ]
    },
    {
      "cell_type": "markdown",
      "metadata": {
        "id": "gPh4wJ5RzdsU"
      },
      "source": [
        "##Conclusion"
      ]
    },
    {
      "cell_type": "markdown",
      "metadata": {
        "id": "gVh4whr7zjK4"
      },
      "source": [
        "As we've seen, the connections of a Mouse's visual cortex, when translated to a Convolutional Nueral Network, are suffient for a basic computer vision task of digit classification, performing within a small margin of error against a baseline model for the task. \n",
        "\n",
        "This tells us about the importance of the structure of an artificial neural network, and how beneficial it is to be able to construct aritificial models based on real life neural networks. The more and more complex relationships we can simulate between nodes in a network takes us closer and closer to stronger and more reliable artificial intelligence, as well as a better understanding of intelligence and cognition as a whole.\n",
        "\n"
      ]
    },
    {
      "cell_type": "markdown",
      "metadata": {
        "id": "QfQ8H-CIz5P5"
      },
      "source": [
        "##References\n",
        "\n",
        "- animal neuron networks <https://neurodata.io/project/connectomes/>\n",
        "- <https://www.tutorialspoint.com/pytorch/pytorch_convolutional_neural_network.htm>, for reference in creating Convolutional Neural Networks\n",
        "- MNIST digits data"
      ]
    }
  ],
  "metadata": {
    "colab": {
      "collapsed_sections": [],
      "name": "CogSciFinal.ipynb",
      "provenance": []
    },
    "kernelspec": {
      "display_name": "Python 3",
      "name": "python3"
    },
    "language_info": {
      "name": "python"
    },
    "widgets": {
      "application/vnd.jupyter.widget-state+json": {
        "d1ef4d94a99c46ca88d698534ddccbd3": {
          "model_module": "@jupyter-widgets/controls",
          "model_name": "HBoxModel",
          "model_module_version": "1.5.0",
          "state": {
            "_dom_classes": [],
            "_model_module": "@jupyter-widgets/controls",
            "_model_module_version": "1.5.0",
            "_model_name": "HBoxModel",
            "_view_count": null,
            "_view_module": "@jupyter-widgets/controls",
            "_view_module_version": "1.5.0",
            "_view_name": "HBoxView",
            "box_style": "",
            "children": [
              "IPY_MODEL_2fc322e8cc0c43df96f0863f91ce1c93",
              "IPY_MODEL_39ff30175e5d48d880c67ac962539bed",
              "IPY_MODEL_759832bfb4194c22af29fc0b2d7d2f49"
            ],
            "layout": "IPY_MODEL_9f672be648e840918ee2f2de315c8210"
          }
        },
        "2fc322e8cc0c43df96f0863f91ce1c93": {
          "model_module": "@jupyter-widgets/controls",
          "model_name": "HTMLModel",
          "model_module_version": "1.5.0",
          "state": {
            "_dom_classes": [],
            "_model_module": "@jupyter-widgets/controls",
            "_model_module_version": "1.5.0",
            "_model_name": "HTMLModel",
            "_view_count": null,
            "_view_module": "@jupyter-widgets/controls",
            "_view_module_version": "1.5.0",
            "_view_name": "HTMLView",
            "description": "",
            "description_tooltip": null,
            "layout": "IPY_MODEL_a8b932f50e0d4843a11ae5fa4dc22772",
            "placeholder": "​",
            "style": "IPY_MODEL_dc567e5562954028a186c4dfe1094b58",
            "value": ""
          }
        },
        "39ff30175e5d48d880c67ac962539bed": {
          "model_module": "@jupyter-widgets/controls",
          "model_name": "FloatProgressModel",
          "model_module_version": "1.5.0",
          "state": {
            "_dom_classes": [],
            "_model_module": "@jupyter-widgets/controls",
            "_model_module_version": "1.5.0",
            "_model_name": "FloatProgressModel",
            "_view_count": null,
            "_view_module": "@jupyter-widgets/controls",
            "_view_module_version": "1.5.0",
            "_view_name": "ProgressView",
            "bar_style": "success",
            "description": "",
            "description_tooltip": null,
            "layout": "IPY_MODEL_0c7140ac090346e3abd679cf46edeb2e",
            "max": 9912422,
            "min": 0,
            "orientation": "horizontal",
            "style": "IPY_MODEL_c28c118021314bab980a2e34c89aee84",
            "value": 9912422
          }
        },
        "759832bfb4194c22af29fc0b2d7d2f49": {
          "model_module": "@jupyter-widgets/controls",
          "model_name": "HTMLModel",
          "model_module_version": "1.5.0",
          "state": {
            "_dom_classes": [],
            "_model_module": "@jupyter-widgets/controls",
            "_model_module_version": "1.5.0",
            "_model_name": "HTMLModel",
            "_view_count": null,
            "_view_module": "@jupyter-widgets/controls",
            "_view_module_version": "1.5.0",
            "_view_name": "HTMLView",
            "description": "",
            "description_tooltip": null,
            "layout": "IPY_MODEL_f7534f1070a24d65b7b589b04b675449",
            "placeholder": "​",
            "style": "IPY_MODEL_89283cee8ece402f9fa3b39a8903b85b",
            "value": " 9913344/? [00:00&lt;00:00, 20521877.75it/s]"
          }
        },
        "9f672be648e840918ee2f2de315c8210": {
          "model_module": "@jupyter-widgets/base",
          "model_name": "LayoutModel",
          "model_module_version": "1.2.0",
          "state": {
            "_model_module": "@jupyter-widgets/base",
            "_model_module_version": "1.2.0",
            "_model_name": "LayoutModel",
            "_view_count": null,
            "_view_module": "@jupyter-widgets/base",
            "_view_module_version": "1.2.0",
            "_view_name": "LayoutView",
            "align_content": null,
            "align_items": null,
            "align_self": null,
            "border": null,
            "bottom": null,
            "display": null,
            "flex": null,
            "flex_flow": null,
            "grid_area": null,
            "grid_auto_columns": null,
            "grid_auto_flow": null,
            "grid_auto_rows": null,
            "grid_column": null,
            "grid_gap": null,
            "grid_row": null,
            "grid_template_areas": null,
            "grid_template_columns": null,
            "grid_template_rows": null,
            "height": null,
            "justify_content": null,
            "justify_items": null,
            "left": null,
            "margin": null,
            "max_height": null,
            "max_width": null,
            "min_height": null,
            "min_width": null,
            "object_fit": null,
            "object_position": null,
            "order": null,
            "overflow": null,
            "overflow_x": null,
            "overflow_y": null,
            "padding": null,
            "right": null,
            "top": null,
            "visibility": null,
            "width": null
          }
        },
        "a8b932f50e0d4843a11ae5fa4dc22772": {
          "model_module": "@jupyter-widgets/base",
          "model_name": "LayoutModel",
          "model_module_version": "1.2.0",
          "state": {
            "_model_module": "@jupyter-widgets/base",
            "_model_module_version": "1.2.0",
            "_model_name": "LayoutModel",
            "_view_count": null,
            "_view_module": "@jupyter-widgets/base",
            "_view_module_version": "1.2.0",
            "_view_name": "LayoutView",
            "align_content": null,
            "align_items": null,
            "align_self": null,
            "border": null,
            "bottom": null,
            "display": null,
            "flex": null,
            "flex_flow": null,
            "grid_area": null,
            "grid_auto_columns": null,
            "grid_auto_flow": null,
            "grid_auto_rows": null,
            "grid_column": null,
            "grid_gap": null,
            "grid_row": null,
            "grid_template_areas": null,
            "grid_template_columns": null,
            "grid_template_rows": null,
            "height": null,
            "justify_content": null,
            "justify_items": null,
            "left": null,
            "margin": null,
            "max_height": null,
            "max_width": null,
            "min_height": null,
            "min_width": null,
            "object_fit": null,
            "object_position": null,
            "order": null,
            "overflow": null,
            "overflow_x": null,
            "overflow_y": null,
            "padding": null,
            "right": null,
            "top": null,
            "visibility": null,
            "width": null
          }
        },
        "dc567e5562954028a186c4dfe1094b58": {
          "model_module": "@jupyter-widgets/controls",
          "model_name": "DescriptionStyleModel",
          "model_module_version": "1.5.0",
          "state": {
            "_model_module": "@jupyter-widgets/controls",
            "_model_module_version": "1.5.0",
            "_model_name": "DescriptionStyleModel",
            "_view_count": null,
            "_view_module": "@jupyter-widgets/base",
            "_view_module_version": "1.2.0",
            "_view_name": "StyleView",
            "description_width": ""
          }
        },
        "0c7140ac090346e3abd679cf46edeb2e": {
          "model_module": "@jupyter-widgets/base",
          "model_name": "LayoutModel",
          "model_module_version": "1.2.0",
          "state": {
            "_model_module": "@jupyter-widgets/base",
            "_model_module_version": "1.2.0",
            "_model_name": "LayoutModel",
            "_view_count": null,
            "_view_module": "@jupyter-widgets/base",
            "_view_module_version": "1.2.0",
            "_view_name": "LayoutView",
            "align_content": null,
            "align_items": null,
            "align_self": null,
            "border": null,
            "bottom": null,
            "display": null,
            "flex": null,
            "flex_flow": null,
            "grid_area": null,
            "grid_auto_columns": null,
            "grid_auto_flow": null,
            "grid_auto_rows": null,
            "grid_column": null,
            "grid_gap": null,
            "grid_row": null,
            "grid_template_areas": null,
            "grid_template_columns": null,
            "grid_template_rows": null,
            "height": null,
            "justify_content": null,
            "justify_items": null,
            "left": null,
            "margin": null,
            "max_height": null,
            "max_width": null,
            "min_height": null,
            "min_width": null,
            "object_fit": null,
            "object_position": null,
            "order": null,
            "overflow": null,
            "overflow_x": null,
            "overflow_y": null,
            "padding": null,
            "right": null,
            "top": null,
            "visibility": null,
            "width": null
          }
        },
        "c28c118021314bab980a2e34c89aee84": {
          "model_module": "@jupyter-widgets/controls",
          "model_name": "ProgressStyleModel",
          "model_module_version": "1.5.0",
          "state": {
            "_model_module": "@jupyter-widgets/controls",
            "_model_module_version": "1.5.0",
            "_model_name": "ProgressStyleModel",
            "_view_count": null,
            "_view_module": "@jupyter-widgets/base",
            "_view_module_version": "1.2.0",
            "_view_name": "StyleView",
            "bar_color": null,
            "description_width": ""
          }
        },
        "f7534f1070a24d65b7b589b04b675449": {
          "model_module": "@jupyter-widgets/base",
          "model_name": "LayoutModel",
          "model_module_version": "1.2.0",
          "state": {
            "_model_module": "@jupyter-widgets/base",
            "_model_module_version": "1.2.0",
            "_model_name": "LayoutModel",
            "_view_count": null,
            "_view_module": "@jupyter-widgets/base",
            "_view_module_version": "1.2.0",
            "_view_name": "LayoutView",
            "align_content": null,
            "align_items": null,
            "align_self": null,
            "border": null,
            "bottom": null,
            "display": null,
            "flex": null,
            "flex_flow": null,
            "grid_area": null,
            "grid_auto_columns": null,
            "grid_auto_flow": null,
            "grid_auto_rows": null,
            "grid_column": null,
            "grid_gap": null,
            "grid_row": null,
            "grid_template_areas": null,
            "grid_template_columns": null,
            "grid_template_rows": null,
            "height": null,
            "justify_content": null,
            "justify_items": null,
            "left": null,
            "margin": null,
            "max_height": null,
            "max_width": null,
            "min_height": null,
            "min_width": null,
            "object_fit": null,
            "object_position": null,
            "order": null,
            "overflow": null,
            "overflow_x": null,
            "overflow_y": null,
            "padding": null,
            "right": null,
            "top": null,
            "visibility": null,
            "width": null
          }
        },
        "89283cee8ece402f9fa3b39a8903b85b": {
          "model_module": "@jupyter-widgets/controls",
          "model_name": "DescriptionStyleModel",
          "model_module_version": "1.5.0",
          "state": {
            "_model_module": "@jupyter-widgets/controls",
            "_model_module_version": "1.5.0",
            "_model_name": "DescriptionStyleModel",
            "_view_count": null,
            "_view_module": "@jupyter-widgets/base",
            "_view_module_version": "1.2.0",
            "_view_name": "StyleView",
            "description_width": ""
          }
        },
        "4471a057a09943cf8dafaa1217e97da0": {
          "model_module": "@jupyter-widgets/controls",
          "model_name": "HBoxModel",
          "model_module_version": "1.5.0",
          "state": {
            "_dom_classes": [],
            "_model_module": "@jupyter-widgets/controls",
            "_model_module_version": "1.5.0",
            "_model_name": "HBoxModel",
            "_view_count": null,
            "_view_module": "@jupyter-widgets/controls",
            "_view_module_version": "1.5.0",
            "_view_name": "HBoxView",
            "box_style": "",
            "children": [
              "IPY_MODEL_c8fdcc7dfef5489c8138e97549dae67d",
              "IPY_MODEL_8516b8b72bf64493b377847874f8c1dd",
              "IPY_MODEL_a7c58b89b14149f2b6dcaceaa5bf5029"
            ],
            "layout": "IPY_MODEL_32ceebe563c5403b854a79c08ce2e255"
          }
        },
        "c8fdcc7dfef5489c8138e97549dae67d": {
          "model_module": "@jupyter-widgets/controls",
          "model_name": "HTMLModel",
          "model_module_version": "1.5.0",
          "state": {
            "_dom_classes": [],
            "_model_module": "@jupyter-widgets/controls",
            "_model_module_version": "1.5.0",
            "_model_name": "HTMLModel",
            "_view_count": null,
            "_view_module": "@jupyter-widgets/controls",
            "_view_module_version": "1.5.0",
            "_view_name": "HTMLView",
            "description": "",
            "description_tooltip": null,
            "layout": "IPY_MODEL_306a9c6875804c5cbf109ef1bebd49c6",
            "placeholder": "​",
            "style": "IPY_MODEL_f5ad74d2d3c2442a832742205fc459db",
            "value": ""
          }
        },
        "8516b8b72bf64493b377847874f8c1dd": {
          "model_module": "@jupyter-widgets/controls",
          "model_name": "FloatProgressModel",
          "model_module_version": "1.5.0",
          "state": {
            "_dom_classes": [],
            "_model_module": "@jupyter-widgets/controls",
            "_model_module_version": "1.5.0",
            "_model_name": "FloatProgressModel",
            "_view_count": null,
            "_view_module": "@jupyter-widgets/controls",
            "_view_module_version": "1.5.0",
            "_view_name": "ProgressView",
            "bar_style": "success",
            "description": "",
            "description_tooltip": null,
            "layout": "IPY_MODEL_d57fa74e37c34d98a8704fb9d4dcd6f0",
            "max": 28881,
            "min": 0,
            "orientation": "horizontal",
            "style": "IPY_MODEL_c551a1c4d7074d2f9621c8a1bb7666b8",
            "value": 28881
          }
        },
        "a7c58b89b14149f2b6dcaceaa5bf5029": {
          "model_module": "@jupyter-widgets/controls",
          "model_name": "HTMLModel",
          "model_module_version": "1.5.0",
          "state": {
            "_dom_classes": [],
            "_model_module": "@jupyter-widgets/controls",
            "_model_module_version": "1.5.0",
            "_model_name": "HTMLModel",
            "_view_count": null,
            "_view_module": "@jupyter-widgets/controls",
            "_view_module_version": "1.5.0",
            "_view_name": "HTMLView",
            "description": "",
            "description_tooltip": null,
            "layout": "IPY_MODEL_834ac91924da424eabc3f07f2f8baa72",
            "placeholder": "​",
            "style": "IPY_MODEL_a52cbed88e7b4d43b28184301f5aa967",
            "value": " 29696/? [00:00&lt;00:00, 8549.67it/s]"
          }
        },
        "32ceebe563c5403b854a79c08ce2e255": {
          "model_module": "@jupyter-widgets/base",
          "model_name": "LayoutModel",
          "model_module_version": "1.2.0",
          "state": {
            "_model_module": "@jupyter-widgets/base",
            "_model_module_version": "1.2.0",
            "_model_name": "LayoutModel",
            "_view_count": null,
            "_view_module": "@jupyter-widgets/base",
            "_view_module_version": "1.2.0",
            "_view_name": "LayoutView",
            "align_content": null,
            "align_items": null,
            "align_self": null,
            "border": null,
            "bottom": null,
            "display": null,
            "flex": null,
            "flex_flow": null,
            "grid_area": null,
            "grid_auto_columns": null,
            "grid_auto_flow": null,
            "grid_auto_rows": null,
            "grid_column": null,
            "grid_gap": null,
            "grid_row": null,
            "grid_template_areas": null,
            "grid_template_columns": null,
            "grid_template_rows": null,
            "height": null,
            "justify_content": null,
            "justify_items": null,
            "left": null,
            "margin": null,
            "max_height": null,
            "max_width": null,
            "min_height": null,
            "min_width": null,
            "object_fit": null,
            "object_position": null,
            "order": null,
            "overflow": null,
            "overflow_x": null,
            "overflow_y": null,
            "padding": null,
            "right": null,
            "top": null,
            "visibility": null,
            "width": null
          }
        },
        "306a9c6875804c5cbf109ef1bebd49c6": {
          "model_module": "@jupyter-widgets/base",
          "model_name": "LayoutModel",
          "model_module_version": "1.2.0",
          "state": {
            "_model_module": "@jupyter-widgets/base",
            "_model_module_version": "1.2.0",
            "_model_name": "LayoutModel",
            "_view_count": null,
            "_view_module": "@jupyter-widgets/base",
            "_view_module_version": "1.2.0",
            "_view_name": "LayoutView",
            "align_content": null,
            "align_items": null,
            "align_self": null,
            "border": null,
            "bottom": null,
            "display": null,
            "flex": null,
            "flex_flow": null,
            "grid_area": null,
            "grid_auto_columns": null,
            "grid_auto_flow": null,
            "grid_auto_rows": null,
            "grid_column": null,
            "grid_gap": null,
            "grid_row": null,
            "grid_template_areas": null,
            "grid_template_columns": null,
            "grid_template_rows": null,
            "height": null,
            "justify_content": null,
            "justify_items": null,
            "left": null,
            "margin": null,
            "max_height": null,
            "max_width": null,
            "min_height": null,
            "min_width": null,
            "object_fit": null,
            "object_position": null,
            "order": null,
            "overflow": null,
            "overflow_x": null,
            "overflow_y": null,
            "padding": null,
            "right": null,
            "top": null,
            "visibility": null,
            "width": null
          }
        },
        "f5ad74d2d3c2442a832742205fc459db": {
          "model_module": "@jupyter-widgets/controls",
          "model_name": "DescriptionStyleModel",
          "model_module_version": "1.5.0",
          "state": {
            "_model_module": "@jupyter-widgets/controls",
            "_model_module_version": "1.5.0",
            "_model_name": "DescriptionStyleModel",
            "_view_count": null,
            "_view_module": "@jupyter-widgets/base",
            "_view_module_version": "1.2.0",
            "_view_name": "StyleView",
            "description_width": ""
          }
        },
        "d57fa74e37c34d98a8704fb9d4dcd6f0": {
          "model_module": "@jupyter-widgets/base",
          "model_name": "LayoutModel",
          "model_module_version": "1.2.0",
          "state": {
            "_model_module": "@jupyter-widgets/base",
            "_model_module_version": "1.2.0",
            "_model_name": "LayoutModel",
            "_view_count": null,
            "_view_module": "@jupyter-widgets/base",
            "_view_module_version": "1.2.0",
            "_view_name": "LayoutView",
            "align_content": null,
            "align_items": null,
            "align_self": null,
            "border": null,
            "bottom": null,
            "display": null,
            "flex": null,
            "flex_flow": null,
            "grid_area": null,
            "grid_auto_columns": null,
            "grid_auto_flow": null,
            "grid_auto_rows": null,
            "grid_column": null,
            "grid_gap": null,
            "grid_row": null,
            "grid_template_areas": null,
            "grid_template_columns": null,
            "grid_template_rows": null,
            "height": null,
            "justify_content": null,
            "justify_items": null,
            "left": null,
            "margin": null,
            "max_height": null,
            "max_width": null,
            "min_height": null,
            "min_width": null,
            "object_fit": null,
            "object_position": null,
            "order": null,
            "overflow": null,
            "overflow_x": null,
            "overflow_y": null,
            "padding": null,
            "right": null,
            "top": null,
            "visibility": null,
            "width": null
          }
        },
        "c551a1c4d7074d2f9621c8a1bb7666b8": {
          "model_module": "@jupyter-widgets/controls",
          "model_name": "ProgressStyleModel",
          "model_module_version": "1.5.0",
          "state": {
            "_model_module": "@jupyter-widgets/controls",
            "_model_module_version": "1.5.0",
            "_model_name": "ProgressStyleModel",
            "_view_count": null,
            "_view_module": "@jupyter-widgets/base",
            "_view_module_version": "1.2.0",
            "_view_name": "StyleView",
            "bar_color": null,
            "description_width": ""
          }
        },
        "834ac91924da424eabc3f07f2f8baa72": {
          "model_module": "@jupyter-widgets/base",
          "model_name": "LayoutModel",
          "model_module_version": "1.2.0",
          "state": {
            "_model_module": "@jupyter-widgets/base",
            "_model_module_version": "1.2.0",
            "_model_name": "LayoutModel",
            "_view_count": null,
            "_view_module": "@jupyter-widgets/base",
            "_view_module_version": "1.2.0",
            "_view_name": "LayoutView",
            "align_content": null,
            "align_items": null,
            "align_self": null,
            "border": null,
            "bottom": null,
            "display": null,
            "flex": null,
            "flex_flow": null,
            "grid_area": null,
            "grid_auto_columns": null,
            "grid_auto_flow": null,
            "grid_auto_rows": null,
            "grid_column": null,
            "grid_gap": null,
            "grid_row": null,
            "grid_template_areas": null,
            "grid_template_columns": null,
            "grid_template_rows": null,
            "height": null,
            "justify_content": null,
            "justify_items": null,
            "left": null,
            "margin": null,
            "max_height": null,
            "max_width": null,
            "min_height": null,
            "min_width": null,
            "object_fit": null,
            "object_position": null,
            "order": null,
            "overflow": null,
            "overflow_x": null,
            "overflow_y": null,
            "padding": null,
            "right": null,
            "top": null,
            "visibility": null,
            "width": null
          }
        },
        "a52cbed88e7b4d43b28184301f5aa967": {
          "model_module": "@jupyter-widgets/controls",
          "model_name": "DescriptionStyleModel",
          "model_module_version": "1.5.0",
          "state": {
            "_model_module": "@jupyter-widgets/controls",
            "_model_module_version": "1.5.0",
            "_model_name": "DescriptionStyleModel",
            "_view_count": null,
            "_view_module": "@jupyter-widgets/base",
            "_view_module_version": "1.2.0",
            "_view_name": "StyleView",
            "description_width": ""
          }
        },
        "676632515bcf4a638678ebd7bbd58471": {
          "model_module": "@jupyter-widgets/controls",
          "model_name": "HBoxModel",
          "model_module_version": "1.5.0",
          "state": {
            "_dom_classes": [],
            "_model_module": "@jupyter-widgets/controls",
            "_model_module_version": "1.5.0",
            "_model_name": "HBoxModel",
            "_view_count": null,
            "_view_module": "@jupyter-widgets/controls",
            "_view_module_version": "1.5.0",
            "_view_name": "HBoxView",
            "box_style": "",
            "children": [
              "IPY_MODEL_a02240fbfd654cc487eba95a2e972e00",
              "IPY_MODEL_53a54e181a01415d895167db8f0b454a",
              "IPY_MODEL_5f4724efc0a64940bb0e6baf4730df04"
            ],
            "layout": "IPY_MODEL_e17016ca6a7f461387e964add1a04291"
          }
        },
        "a02240fbfd654cc487eba95a2e972e00": {
          "model_module": "@jupyter-widgets/controls",
          "model_name": "HTMLModel",
          "model_module_version": "1.5.0",
          "state": {
            "_dom_classes": [],
            "_model_module": "@jupyter-widgets/controls",
            "_model_module_version": "1.5.0",
            "_model_name": "HTMLModel",
            "_view_count": null,
            "_view_module": "@jupyter-widgets/controls",
            "_view_module_version": "1.5.0",
            "_view_name": "HTMLView",
            "description": "",
            "description_tooltip": null,
            "layout": "IPY_MODEL_97fa06b09dfe4df9b219f6aa346ffa73",
            "placeholder": "​",
            "style": "IPY_MODEL_35b7c19a0f6949b69fe8bcee490dc2f5",
            "value": ""
          }
        },
        "53a54e181a01415d895167db8f0b454a": {
          "model_module": "@jupyter-widgets/controls",
          "model_name": "FloatProgressModel",
          "model_module_version": "1.5.0",
          "state": {
            "_dom_classes": [],
            "_model_module": "@jupyter-widgets/controls",
            "_model_module_version": "1.5.0",
            "_model_name": "FloatProgressModel",
            "_view_count": null,
            "_view_module": "@jupyter-widgets/controls",
            "_view_module_version": "1.5.0",
            "_view_name": "ProgressView",
            "bar_style": "success",
            "description": "",
            "description_tooltip": null,
            "layout": "IPY_MODEL_16eca085c9934cb89bc460db6a0f2066",
            "max": 1648877,
            "min": 0,
            "orientation": "horizontal",
            "style": "IPY_MODEL_027ca8e13fb54f8aa42456ec144d9ff9",
            "value": 1648877
          }
        },
        "5f4724efc0a64940bb0e6baf4730df04": {
          "model_module": "@jupyter-widgets/controls",
          "model_name": "HTMLModel",
          "model_module_version": "1.5.0",
          "state": {
            "_dom_classes": [],
            "_model_module": "@jupyter-widgets/controls",
            "_model_module_version": "1.5.0",
            "_model_name": "HTMLModel",
            "_view_count": null,
            "_view_module": "@jupyter-widgets/controls",
            "_view_module_version": "1.5.0",
            "_view_name": "HTMLView",
            "description": "",
            "description_tooltip": null,
            "layout": "IPY_MODEL_6efe00e4d8964658ad6228c0102b4d17",
            "placeholder": "​",
            "style": "IPY_MODEL_17fa8782c514401c819a65ec507579c4",
            "value": " 1649664/? [00:00&lt;00:00, 5805902.27it/s]"
          }
        },
        "e17016ca6a7f461387e964add1a04291": {
          "model_module": "@jupyter-widgets/base",
          "model_name": "LayoutModel",
          "model_module_version": "1.2.0",
          "state": {
            "_model_module": "@jupyter-widgets/base",
            "_model_module_version": "1.2.0",
            "_model_name": "LayoutModel",
            "_view_count": null,
            "_view_module": "@jupyter-widgets/base",
            "_view_module_version": "1.2.0",
            "_view_name": "LayoutView",
            "align_content": null,
            "align_items": null,
            "align_self": null,
            "border": null,
            "bottom": null,
            "display": null,
            "flex": null,
            "flex_flow": null,
            "grid_area": null,
            "grid_auto_columns": null,
            "grid_auto_flow": null,
            "grid_auto_rows": null,
            "grid_column": null,
            "grid_gap": null,
            "grid_row": null,
            "grid_template_areas": null,
            "grid_template_columns": null,
            "grid_template_rows": null,
            "height": null,
            "justify_content": null,
            "justify_items": null,
            "left": null,
            "margin": null,
            "max_height": null,
            "max_width": null,
            "min_height": null,
            "min_width": null,
            "object_fit": null,
            "object_position": null,
            "order": null,
            "overflow": null,
            "overflow_x": null,
            "overflow_y": null,
            "padding": null,
            "right": null,
            "top": null,
            "visibility": null,
            "width": null
          }
        },
        "97fa06b09dfe4df9b219f6aa346ffa73": {
          "model_module": "@jupyter-widgets/base",
          "model_name": "LayoutModel",
          "model_module_version": "1.2.0",
          "state": {
            "_model_module": "@jupyter-widgets/base",
            "_model_module_version": "1.2.0",
            "_model_name": "LayoutModel",
            "_view_count": null,
            "_view_module": "@jupyter-widgets/base",
            "_view_module_version": "1.2.0",
            "_view_name": "LayoutView",
            "align_content": null,
            "align_items": null,
            "align_self": null,
            "border": null,
            "bottom": null,
            "display": null,
            "flex": null,
            "flex_flow": null,
            "grid_area": null,
            "grid_auto_columns": null,
            "grid_auto_flow": null,
            "grid_auto_rows": null,
            "grid_column": null,
            "grid_gap": null,
            "grid_row": null,
            "grid_template_areas": null,
            "grid_template_columns": null,
            "grid_template_rows": null,
            "height": null,
            "justify_content": null,
            "justify_items": null,
            "left": null,
            "margin": null,
            "max_height": null,
            "max_width": null,
            "min_height": null,
            "min_width": null,
            "object_fit": null,
            "object_position": null,
            "order": null,
            "overflow": null,
            "overflow_x": null,
            "overflow_y": null,
            "padding": null,
            "right": null,
            "top": null,
            "visibility": null,
            "width": null
          }
        },
        "35b7c19a0f6949b69fe8bcee490dc2f5": {
          "model_module": "@jupyter-widgets/controls",
          "model_name": "DescriptionStyleModel",
          "model_module_version": "1.5.0",
          "state": {
            "_model_module": "@jupyter-widgets/controls",
            "_model_module_version": "1.5.0",
            "_model_name": "DescriptionStyleModel",
            "_view_count": null,
            "_view_module": "@jupyter-widgets/base",
            "_view_module_version": "1.2.0",
            "_view_name": "StyleView",
            "description_width": ""
          }
        },
        "16eca085c9934cb89bc460db6a0f2066": {
          "model_module": "@jupyter-widgets/base",
          "model_name": "LayoutModel",
          "model_module_version": "1.2.0",
          "state": {
            "_model_module": "@jupyter-widgets/base",
            "_model_module_version": "1.2.0",
            "_model_name": "LayoutModel",
            "_view_count": null,
            "_view_module": "@jupyter-widgets/base",
            "_view_module_version": "1.2.0",
            "_view_name": "LayoutView",
            "align_content": null,
            "align_items": null,
            "align_self": null,
            "border": null,
            "bottom": null,
            "display": null,
            "flex": null,
            "flex_flow": null,
            "grid_area": null,
            "grid_auto_columns": null,
            "grid_auto_flow": null,
            "grid_auto_rows": null,
            "grid_column": null,
            "grid_gap": null,
            "grid_row": null,
            "grid_template_areas": null,
            "grid_template_columns": null,
            "grid_template_rows": null,
            "height": null,
            "justify_content": null,
            "justify_items": null,
            "left": null,
            "margin": null,
            "max_height": null,
            "max_width": null,
            "min_height": null,
            "min_width": null,
            "object_fit": null,
            "object_position": null,
            "order": null,
            "overflow": null,
            "overflow_x": null,
            "overflow_y": null,
            "padding": null,
            "right": null,
            "top": null,
            "visibility": null,
            "width": null
          }
        },
        "027ca8e13fb54f8aa42456ec144d9ff9": {
          "model_module": "@jupyter-widgets/controls",
          "model_name": "ProgressStyleModel",
          "model_module_version": "1.5.0",
          "state": {
            "_model_module": "@jupyter-widgets/controls",
            "_model_module_version": "1.5.0",
            "_model_name": "ProgressStyleModel",
            "_view_count": null,
            "_view_module": "@jupyter-widgets/base",
            "_view_module_version": "1.2.0",
            "_view_name": "StyleView",
            "bar_color": null,
            "description_width": ""
          }
        },
        "6efe00e4d8964658ad6228c0102b4d17": {
          "model_module": "@jupyter-widgets/base",
          "model_name": "LayoutModel",
          "model_module_version": "1.2.0",
          "state": {
            "_model_module": "@jupyter-widgets/base",
            "_model_module_version": "1.2.0",
            "_model_name": "LayoutModel",
            "_view_count": null,
            "_view_module": "@jupyter-widgets/base",
            "_view_module_version": "1.2.0",
            "_view_name": "LayoutView",
            "align_content": null,
            "align_items": null,
            "align_self": null,
            "border": null,
            "bottom": null,
            "display": null,
            "flex": null,
            "flex_flow": null,
            "grid_area": null,
            "grid_auto_columns": null,
            "grid_auto_flow": null,
            "grid_auto_rows": null,
            "grid_column": null,
            "grid_gap": null,
            "grid_row": null,
            "grid_template_areas": null,
            "grid_template_columns": null,
            "grid_template_rows": null,
            "height": null,
            "justify_content": null,
            "justify_items": null,
            "left": null,
            "margin": null,
            "max_height": null,
            "max_width": null,
            "min_height": null,
            "min_width": null,
            "object_fit": null,
            "object_position": null,
            "order": null,
            "overflow": null,
            "overflow_x": null,
            "overflow_y": null,
            "padding": null,
            "right": null,
            "top": null,
            "visibility": null,
            "width": null
          }
        },
        "17fa8782c514401c819a65ec507579c4": {
          "model_module": "@jupyter-widgets/controls",
          "model_name": "DescriptionStyleModel",
          "model_module_version": "1.5.0",
          "state": {
            "_model_module": "@jupyter-widgets/controls",
            "_model_module_version": "1.5.0",
            "_model_name": "DescriptionStyleModel",
            "_view_count": null,
            "_view_module": "@jupyter-widgets/base",
            "_view_module_version": "1.2.0",
            "_view_name": "StyleView",
            "description_width": ""
          }
        },
        "e949b868a235491a94ad394ddb1d354d": {
          "model_module": "@jupyter-widgets/controls",
          "model_name": "HBoxModel",
          "model_module_version": "1.5.0",
          "state": {
            "_dom_classes": [],
            "_model_module": "@jupyter-widgets/controls",
            "_model_module_version": "1.5.0",
            "_model_name": "HBoxModel",
            "_view_count": null,
            "_view_module": "@jupyter-widgets/controls",
            "_view_module_version": "1.5.0",
            "_view_name": "HBoxView",
            "box_style": "",
            "children": [
              "IPY_MODEL_ca93b5fe4f304017bfb290adc5525aff",
              "IPY_MODEL_0bd909ce02c4439f8a9e9c692475d4bf",
              "IPY_MODEL_85d36cde2f274f90b2255a5386ac073d"
            ],
            "layout": "IPY_MODEL_b58feef4b1794c4690aded2820dcdfa2"
          }
        },
        "ca93b5fe4f304017bfb290adc5525aff": {
          "model_module": "@jupyter-widgets/controls",
          "model_name": "HTMLModel",
          "model_module_version": "1.5.0",
          "state": {
            "_dom_classes": [],
            "_model_module": "@jupyter-widgets/controls",
            "_model_module_version": "1.5.0",
            "_model_name": "HTMLModel",
            "_view_count": null,
            "_view_module": "@jupyter-widgets/controls",
            "_view_module_version": "1.5.0",
            "_view_name": "HTMLView",
            "description": "",
            "description_tooltip": null,
            "layout": "IPY_MODEL_b7264097962c4fffa7dcbc29ed03b621",
            "placeholder": "​",
            "style": "IPY_MODEL_beb3e3f6aab04a4a93c3b40997b64d55",
            "value": ""
          }
        },
        "0bd909ce02c4439f8a9e9c692475d4bf": {
          "model_module": "@jupyter-widgets/controls",
          "model_name": "FloatProgressModel",
          "model_module_version": "1.5.0",
          "state": {
            "_dom_classes": [],
            "_model_module": "@jupyter-widgets/controls",
            "_model_module_version": "1.5.0",
            "_model_name": "FloatProgressModel",
            "_view_count": null,
            "_view_module": "@jupyter-widgets/controls",
            "_view_module_version": "1.5.0",
            "_view_name": "ProgressView",
            "bar_style": "success",
            "description": "",
            "description_tooltip": null,
            "layout": "IPY_MODEL_87201fc605b045c288676ea6cbba4fc6",
            "max": 4542,
            "min": 0,
            "orientation": "horizontal",
            "style": "IPY_MODEL_a0777f34cd154a38aca4e9fa79241c8c",
            "value": 4542
          }
        },
        "85d36cde2f274f90b2255a5386ac073d": {
          "model_module": "@jupyter-widgets/controls",
          "model_name": "HTMLModel",
          "model_module_version": "1.5.0",
          "state": {
            "_dom_classes": [],
            "_model_module": "@jupyter-widgets/controls",
            "_model_module_version": "1.5.0",
            "_model_name": "HTMLModel",
            "_view_count": null,
            "_view_module": "@jupyter-widgets/controls",
            "_view_module_version": "1.5.0",
            "_view_name": "HTMLView",
            "description": "",
            "description_tooltip": null,
            "layout": "IPY_MODEL_d072e7425e8e44dcb9dd54ffe720503c",
            "placeholder": "​",
            "style": "IPY_MODEL_5c4d9d0d94c84269a25d8fc609bbaa64",
            "value": " 5120/? [00:00&lt;00:00, 8726.42it/s]"
          }
        },
        "b58feef4b1794c4690aded2820dcdfa2": {
          "model_module": "@jupyter-widgets/base",
          "model_name": "LayoutModel",
          "model_module_version": "1.2.0",
          "state": {
            "_model_module": "@jupyter-widgets/base",
            "_model_module_version": "1.2.0",
            "_model_name": "LayoutModel",
            "_view_count": null,
            "_view_module": "@jupyter-widgets/base",
            "_view_module_version": "1.2.0",
            "_view_name": "LayoutView",
            "align_content": null,
            "align_items": null,
            "align_self": null,
            "border": null,
            "bottom": null,
            "display": null,
            "flex": null,
            "flex_flow": null,
            "grid_area": null,
            "grid_auto_columns": null,
            "grid_auto_flow": null,
            "grid_auto_rows": null,
            "grid_column": null,
            "grid_gap": null,
            "grid_row": null,
            "grid_template_areas": null,
            "grid_template_columns": null,
            "grid_template_rows": null,
            "height": null,
            "justify_content": null,
            "justify_items": null,
            "left": null,
            "margin": null,
            "max_height": null,
            "max_width": null,
            "min_height": null,
            "min_width": null,
            "object_fit": null,
            "object_position": null,
            "order": null,
            "overflow": null,
            "overflow_x": null,
            "overflow_y": null,
            "padding": null,
            "right": null,
            "top": null,
            "visibility": null,
            "width": null
          }
        },
        "b7264097962c4fffa7dcbc29ed03b621": {
          "model_module": "@jupyter-widgets/base",
          "model_name": "LayoutModel",
          "model_module_version": "1.2.0",
          "state": {
            "_model_module": "@jupyter-widgets/base",
            "_model_module_version": "1.2.0",
            "_model_name": "LayoutModel",
            "_view_count": null,
            "_view_module": "@jupyter-widgets/base",
            "_view_module_version": "1.2.0",
            "_view_name": "LayoutView",
            "align_content": null,
            "align_items": null,
            "align_self": null,
            "border": null,
            "bottom": null,
            "display": null,
            "flex": null,
            "flex_flow": null,
            "grid_area": null,
            "grid_auto_columns": null,
            "grid_auto_flow": null,
            "grid_auto_rows": null,
            "grid_column": null,
            "grid_gap": null,
            "grid_row": null,
            "grid_template_areas": null,
            "grid_template_columns": null,
            "grid_template_rows": null,
            "height": null,
            "justify_content": null,
            "justify_items": null,
            "left": null,
            "margin": null,
            "max_height": null,
            "max_width": null,
            "min_height": null,
            "min_width": null,
            "object_fit": null,
            "object_position": null,
            "order": null,
            "overflow": null,
            "overflow_x": null,
            "overflow_y": null,
            "padding": null,
            "right": null,
            "top": null,
            "visibility": null,
            "width": null
          }
        },
        "beb3e3f6aab04a4a93c3b40997b64d55": {
          "model_module": "@jupyter-widgets/controls",
          "model_name": "DescriptionStyleModel",
          "model_module_version": "1.5.0",
          "state": {
            "_model_module": "@jupyter-widgets/controls",
            "_model_module_version": "1.5.0",
            "_model_name": "DescriptionStyleModel",
            "_view_count": null,
            "_view_module": "@jupyter-widgets/base",
            "_view_module_version": "1.2.0",
            "_view_name": "StyleView",
            "description_width": ""
          }
        },
        "87201fc605b045c288676ea6cbba4fc6": {
          "model_module": "@jupyter-widgets/base",
          "model_name": "LayoutModel",
          "model_module_version": "1.2.0",
          "state": {
            "_model_module": "@jupyter-widgets/base",
            "_model_module_version": "1.2.0",
            "_model_name": "LayoutModel",
            "_view_count": null,
            "_view_module": "@jupyter-widgets/base",
            "_view_module_version": "1.2.0",
            "_view_name": "LayoutView",
            "align_content": null,
            "align_items": null,
            "align_self": null,
            "border": null,
            "bottom": null,
            "display": null,
            "flex": null,
            "flex_flow": null,
            "grid_area": null,
            "grid_auto_columns": null,
            "grid_auto_flow": null,
            "grid_auto_rows": null,
            "grid_column": null,
            "grid_gap": null,
            "grid_row": null,
            "grid_template_areas": null,
            "grid_template_columns": null,
            "grid_template_rows": null,
            "height": null,
            "justify_content": null,
            "justify_items": null,
            "left": null,
            "margin": null,
            "max_height": null,
            "max_width": null,
            "min_height": null,
            "min_width": null,
            "object_fit": null,
            "object_position": null,
            "order": null,
            "overflow": null,
            "overflow_x": null,
            "overflow_y": null,
            "padding": null,
            "right": null,
            "top": null,
            "visibility": null,
            "width": null
          }
        },
        "a0777f34cd154a38aca4e9fa79241c8c": {
          "model_module": "@jupyter-widgets/controls",
          "model_name": "ProgressStyleModel",
          "model_module_version": "1.5.0",
          "state": {
            "_model_module": "@jupyter-widgets/controls",
            "_model_module_version": "1.5.0",
            "_model_name": "ProgressStyleModel",
            "_view_count": null,
            "_view_module": "@jupyter-widgets/base",
            "_view_module_version": "1.2.0",
            "_view_name": "StyleView",
            "bar_color": null,
            "description_width": ""
          }
        },
        "d072e7425e8e44dcb9dd54ffe720503c": {
          "model_module": "@jupyter-widgets/base",
          "model_name": "LayoutModel",
          "model_module_version": "1.2.0",
          "state": {
            "_model_module": "@jupyter-widgets/base",
            "_model_module_version": "1.2.0",
            "_model_name": "LayoutModel",
            "_view_count": null,
            "_view_module": "@jupyter-widgets/base",
            "_view_module_version": "1.2.0",
            "_view_name": "LayoutView",
            "align_content": null,
            "align_items": null,
            "align_self": null,
            "border": null,
            "bottom": null,
            "display": null,
            "flex": null,
            "flex_flow": null,
            "grid_area": null,
            "grid_auto_columns": null,
            "grid_auto_flow": null,
            "grid_auto_rows": null,
            "grid_column": null,
            "grid_gap": null,
            "grid_row": null,
            "grid_template_areas": null,
            "grid_template_columns": null,
            "grid_template_rows": null,
            "height": null,
            "justify_content": null,
            "justify_items": null,
            "left": null,
            "margin": null,
            "max_height": null,
            "max_width": null,
            "min_height": null,
            "min_width": null,
            "object_fit": null,
            "object_position": null,
            "order": null,
            "overflow": null,
            "overflow_x": null,
            "overflow_y": null,
            "padding": null,
            "right": null,
            "top": null,
            "visibility": null,
            "width": null
          }
        },
        "5c4d9d0d94c84269a25d8fc609bbaa64": {
          "model_module": "@jupyter-widgets/controls",
          "model_name": "DescriptionStyleModel",
          "model_module_version": "1.5.0",
          "state": {
            "_model_module": "@jupyter-widgets/controls",
            "_model_module_version": "1.5.0",
            "_model_name": "DescriptionStyleModel",
            "_view_count": null,
            "_view_module": "@jupyter-widgets/base",
            "_view_module_version": "1.2.0",
            "_view_name": "StyleView",
            "description_width": ""
          }
        }
      }
    }
  },
  "nbformat": 4,
  "nbformat_minor": 0
}